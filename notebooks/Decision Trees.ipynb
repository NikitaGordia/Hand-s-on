{
 "nbformat": 4,
 "nbformat_minor": 0,
 "metadata": {
  "colab": {
   "name": "Decision Trees.ipynb",
   "provenance": [],
   "authorship_tag": "ABX9TyNedz+ewG4H69JeW1ico0fI"
  },
  "kernelspec": {
   "name": "python3",
   "language": "python",
   "display_name": "Python 3"
  }
 },
 "cells": [
  {
   "cell_type": "code",
   "metadata": {
    "id": "IVg5T6kfz1aT"
   },
   "source": [
    "from sklearn.datasets import load_iris\n",
    "from sklearn.tree import DecisionTreeClassifier\n",
    "\n",
    "iris = load_iris()"
   ],
   "execution_count": 21,
   "outputs": []
  },
  {
   "cell_type": "code",
   "metadata": {
    "id": "KgycCo89B3F-"
   },
   "source": [
    "X = iris.data[:, 2:]\n",
    "y = iris.target"
   ],
   "execution_count": 22,
   "outputs": []
  },
  {
   "cell_type": "code",
   "metadata": {
    "id": "102r60e5B7hL",
    "executionInfo": {
     "status": "ok",
     "timestamp": 1603298508262,
     "user_tz": -180,
     "elapsed": 1783,
     "user": {
      "displayName": "nikita gordia",
      "photoUrl": "https://lh3.googleusercontent.com/a-/AOh14Gg-759Q23FO87-PUT97h9M2q3P9oUHUs0xx51_VDQ=s64",
      "userId": "13532432211404434996"
     }
    },
    "outputId": "c1f2cb2a-2f67-44c7-8772-be5f3b9f634c",
    "colab": {
     "base_uri": "https://localhost:8080/",
     "height": 119
    }
   },
   "source": [
    "tree_clf = DecisionTreeClassifier(max_depth=2)\n",
    "tree_clf.fit(X, y)"
   ],
   "execution_count": 20,
   "outputs": [
    {
     "data": {
      "text/plain": "DecisionTreeClassifier(max_depth=2)"
     },
     "execution_count": 20,
     "metadata": {},
     "output_type": "execute_result"
    }
   ]
  },
  {
   "cell_type": "code",
   "metadata": {
    "id": "2fA5us38B7_P",
    "executionInfo": {
     "status": "ok",
     "timestamp": 1603298800463,
     "user_tz": -180,
     "elapsed": 1973,
     "user": {
      "displayName": "nikita gordia",
      "photoUrl": "https://lh3.googleusercontent.com/a-/AOh14Gg-759Q23FO87-PUT97h9M2q3P9oUHUs0xx51_VDQ=s64",
      "userId": "13532432211404434996"
     }
    },
    "outputId": "7d4cff79-e649-412f-97ac-6c64c58dc50d",
    "colab": {
     "base_uri": "https://localhost:8080/",
     "height": 436
    }
   },
   "source": [
    "from sklearn.tree import export_graphviz\n",
    "\n",
    "from sklearn.externals.six import StringIO\n",
    "from IPython.display import Image\n",
    "import pydotplus\n",
    "\n",
    "dot_data = StringIO()\n",
    "export_graphviz(\n",
    "    tree_clf,\n",
    "    out_file=dot_data,\n",
    "    feature_names=iris.feature_names[2:],\n",
    "    class_names=iris.target_names,\n",
    "    rounded=True,\n",
    "    filled=True\n",
    ")\n",
    "graph = pydotplus.graph_from_dot_data(dot_data.getvalue())  \n",
    "Image(graph.create_png())"
   ],
   "execution_count": 6,
   "outputs": [
    {
     "ename": "ModuleNotFoundError",
     "evalue": "No module named 'sklearn'",
     "output_type": "error",
     "traceback": [
      "\u001B[0;31m---------------------------------------------------------------------------\u001B[0m",
      "\u001B[0;31mModuleNotFoundError\u001B[0m                       Traceback (most recent call last)",
      "\u001B[0;32m<ipython-input-6-9f7f0f3fb621>\u001B[0m in \u001B[0;36m<module>\u001B[0;34m\u001B[0m\n\u001B[0;32m----> 1\u001B[0;31m \u001B[0;32mfrom\u001B[0m \u001B[0msklearn\u001B[0m\u001B[0;34m.\u001B[0m\u001B[0mtree\u001B[0m \u001B[0;32mimport\u001B[0m \u001B[0mexport_graphviz\u001B[0m\u001B[0;34m\u001B[0m\u001B[0;34m\u001B[0m\u001B[0m\n\u001B[0m\u001B[1;32m      2\u001B[0m \u001B[0;34m\u001B[0m\u001B[0m\n\u001B[1;32m      3\u001B[0m \u001B[0;32mfrom\u001B[0m \u001B[0msklearn\u001B[0m\u001B[0;34m.\u001B[0m\u001B[0mexternals\u001B[0m\u001B[0;34m.\u001B[0m\u001B[0msix\u001B[0m \u001B[0;32mimport\u001B[0m \u001B[0mStringIO\u001B[0m\u001B[0;34m\u001B[0m\u001B[0;34m\u001B[0m\u001B[0m\n\u001B[1;32m      4\u001B[0m \u001B[0;32mfrom\u001B[0m \u001B[0mIPython\u001B[0m\u001B[0;34m.\u001B[0m\u001B[0mdisplay\u001B[0m \u001B[0;32mimport\u001B[0m \u001B[0mImage\u001B[0m\u001B[0;34m\u001B[0m\u001B[0;34m\u001B[0m\u001B[0m\n\u001B[1;32m      5\u001B[0m \u001B[0;32mimport\u001B[0m \u001B[0mpydotplus\u001B[0m\u001B[0;34m\u001B[0m\u001B[0;34m\u001B[0m\u001B[0m\n",
      "\u001B[0;31mModuleNotFoundError\u001B[0m: No module named 'sklearn'"
     ]
    }
   ]
  },
  {
   "cell_type": "code",
   "metadata": {
    "id": "x-O6ALP1DKJ_",
    "executionInfo": {
     "status": "ok",
     "timestamp": 1603305704236,
     "user_tz": -180,
     "elapsed": 1214,
     "user": {
      "displayName": "nikita gordia",
      "photoUrl": "https://lh3.googleusercontent.com/a-/AOh14Gg-759Q23FO87-PUT97h9M2q3P9oUHUs0xx51_VDQ=s64",
      "userId": "13532432211404434996"
     }
    }
   },
   "source": [
    "from sklearn.datasets import make_moons\n",
    "\n",
    "X, y = make_moons(n_samples=10_000, noise=0.4, shuffle=True)"
   ],
   "execution_count": 7,
   "outputs": [
    {
     "ename": "ModuleNotFoundError",
     "evalue": "No module named 'sklearn'",
     "output_type": "error",
     "traceback": [
      "\u001B[0;31m---------------------------------------------------------------------------\u001B[0m",
      "\u001B[0;31mModuleNotFoundError\u001B[0m                       Traceback (most recent call last)",
      "\u001B[0;32m<ipython-input-7-d5891508623e>\u001B[0m in \u001B[0;36m<module>\u001B[0;34m\u001B[0m\n\u001B[0;32m----> 1\u001B[0;31m \u001B[0;32mfrom\u001B[0m \u001B[0msklearn\u001B[0m\u001B[0;34m.\u001B[0m\u001B[0mdatasets\u001B[0m \u001B[0;32mimport\u001B[0m \u001B[0mmake_moons\u001B[0m\u001B[0;34m\u001B[0m\u001B[0;34m\u001B[0m\u001B[0m\n\u001B[0m\u001B[1;32m      2\u001B[0m \u001B[0;34m\u001B[0m\u001B[0m\n\u001B[1;32m      3\u001B[0m \u001B[0mX\u001B[0m\u001B[0;34m,\u001B[0m \u001B[0my\u001B[0m \u001B[0;34m=\u001B[0m \u001B[0mmake_moons\u001B[0m\u001B[0;34m(\u001B[0m\u001B[0mn_samples\u001B[0m\u001B[0;34m=\u001B[0m\u001B[0;36m10_000\u001B[0m\u001B[0;34m,\u001B[0m \u001B[0mnoise\u001B[0m\u001B[0;34m=\u001B[0m\u001B[0;36m0.4\u001B[0m\u001B[0;34m,\u001B[0m \u001B[0mshuffle\u001B[0m\u001B[0;34m=\u001B[0m\u001B[0;32mTrue\u001B[0m\u001B[0;34m)\u001B[0m\u001B[0;34m\u001B[0m\u001B[0;34m\u001B[0m\u001B[0m\n\u001B[1;32m      4\u001B[0m \u001B[0;34m\u001B[0m\u001B[0m\n",
      "\u001B[0;31mModuleNotFoundError\u001B[0m: No module named 'sklearn'"
     ]
    }
   ]
  },
  {
   "cell_type": "code",
   "metadata": {
    "id": "YcXVDUEXc_G-",
    "executionInfo": {
     "status": "ok",
     "timestamp": 1603305881012,
     "user_tz": -180,
     "elapsed": 1040,
     "user": {
      "displayName": "nikita gordia",
      "photoUrl": "https://lh3.googleusercontent.com/a-/AOh14Gg-759Q23FO87-PUT97h9M2q3P9oUHUs0xx51_VDQ=s64",
      "userId": "13532432211404434996"
     }
    }
   },
   "source": [
    "from sklearn.model_selection import train_test_split\n",
    "\n",
    "X_train, X_test, y_train, y_test = train_test_split(X, y, test_size=0.2)"
   ],
   "execution_count": 8,
   "outputs": [
    {
     "ename": "ModuleNotFoundError",
     "evalue": "No module named 'sklearn'",
     "output_type": "error",
     "traceback": [
      "\u001B[0;31m---------------------------------------------------------------------------\u001B[0m",
      "\u001B[0;31mModuleNotFoundError\u001B[0m                       Traceback (most recent call last)",
      "\u001B[0;32m<ipython-input-8-29a6c1e4a689>\u001B[0m in \u001B[0;36m<module>\u001B[0;34m\u001B[0m\n\u001B[0;32m----> 1\u001B[0;31m \u001B[0;32mfrom\u001B[0m \u001B[0msklearn\u001B[0m\u001B[0;34m.\u001B[0m\u001B[0mmodel_selection\u001B[0m \u001B[0;32mimport\u001B[0m \u001B[0mtrain_test_split\u001B[0m\u001B[0;34m\u001B[0m\u001B[0;34m\u001B[0m\u001B[0m\n\u001B[0m\u001B[1;32m      2\u001B[0m \u001B[0;34m\u001B[0m\u001B[0m\n\u001B[1;32m      3\u001B[0m \u001B[0mX_train\u001B[0m\u001B[0;34m,\u001B[0m \u001B[0mX_test\u001B[0m\u001B[0;34m,\u001B[0m \u001B[0my_train\u001B[0m\u001B[0;34m,\u001B[0m \u001B[0my_test\u001B[0m \u001B[0;34m=\u001B[0m \u001B[0mtrain_test_split\u001B[0m\u001B[0;34m(\u001B[0m\u001B[0mX\u001B[0m\u001B[0;34m,\u001B[0m \u001B[0my\u001B[0m\u001B[0;34m,\u001B[0m \u001B[0mtest_size\u001B[0m\u001B[0;34m=\u001B[0m\u001B[0;36m0.2\u001B[0m\u001B[0;34m)\u001B[0m\u001B[0;34m\u001B[0m\u001B[0;34m\u001B[0m\u001B[0m\n\u001B[1;32m      4\u001B[0m \u001B[0;34m\u001B[0m\u001B[0m\n",
      "\u001B[0;31mModuleNotFoundError\u001B[0m: No module named 'sklearn'"
     ]
    }
   ]
  },
  {
   "cell_type": "code",
   "metadata": {
    "id": "zePnw9TEc_47",
    "executionInfo": {
     "status": "ok",
     "timestamp": 1603305929182,
     "user_tz": -180,
     "elapsed": 1945,
     "user": {
      "displayName": "nikita gordia",
      "photoUrl": "https://lh3.googleusercontent.com/a-/AOh14Gg-759Q23FO87-PUT97h9M2q3P9oUHUs0xx51_VDQ=s64",
      "userId": "13532432211404434996"
     }
    },
    "outputId": "a3233c65-61d2-4d87-c8e2-5c353b907fc5",
    "colab": {
     "base_uri": "https://localhost:8080/",
     "height": 282
    }
   },
   "source": [
    "from matplotlib import pyplot as plt\n",
    "\n",
    "plt.scatter(x=X[:, 0], y=X[:, 1], c=y, alpha=0.1)"
   ],
   "execution_count": 9,
   "outputs": [
    {
     "ename": "ModuleNotFoundError",
     "evalue": "No module named 'matplotlib'",
     "output_type": "error",
     "traceback": [
      "\u001B[0;31m---------------------------------------------------------------------------\u001B[0m",
      "\u001B[0;31mModuleNotFoundError\u001B[0m                       Traceback (most recent call last)",
      "\u001B[0;32m<ipython-input-9-c850d2a9048b>\u001B[0m in \u001B[0;36m<module>\u001B[0;34m\u001B[0m\n\u001B[0;32m----> 1\u001B[0;31m \u001B[0;32mfrom\u001B[0m \u001B[0mmatplotlib\u001B[0m \u001B[0;32mimport\u001B[0m \u001B[0mpyplot\u001B[0m \u001B[0;32mas\u001B[0m \u001B[0mplt\u001B[0m\u001B[0;34m\u001B[0m\u001B[0;34m\u001B[0m\u001B[0m\n\u001B[0m\u001B[1;32m      2\u001B[0m \u001B[0;34m\u001B[0m\u001B[0m\n\u001B[1;32m      3\u001B[0m \u001B[0mplt\u001B[0m\u001B[0;34m.\u001B[0m\u001B[0mscatter\u001B[0m\u001B[0;34m(\u001B[0m\u001B[0mx\u001B[0m\u001B[0;34m=\u001B[0m\u001B[0mX\u001B[0m\u001B[0;34m[\u001B[0m\u001B[0;34m:\u001B[0m\u001B[0;34m,\u001B[0m \u001B[0;36m0\u001B[0m\u001B[0;34m]\u001B[0m\u001B[0;34m,\u001B[0m \u001B[0my\u001B[0m\u001B[0;34m=\u001B[0m\u001B[0mX\u001B[0m\u001B[0;34m[\u001B[0m\u001B[0;34m:\u001B[0m\u001B[0;34m,\u001B[0m \u001B[0;36m1\u001B[0m\u001B[0;34m]\u001B[0m\u001B[0;34m,\u001B[0m \u001B[0mc\u001B[0m\u001B[0;34m=\u001B[0m\u001B[0my\u001B[0m\u001B[0;34m,\u001B[0m \u001B[0malpha\u001B[0m\u001B[0;34m=\u001B[0m\u001B[0;36m0.1\u001B[0m\u001B[0;34m)\u001B[0m\u001B[0;34m\u001B[0m\u001B[0;34m\u001B[0m\u001B[0m\n\u001B[1;32m      4\u001B[0m \u001B[0;34m\u001B[0m\u001B[0m\n",
      "\u001B[0;31mModuleNotFoundError\u001B[0m: No module named 'matplotlib'"
     ]
    }
   ]
  },
  {
   "cell_type": "code",
   "metadata": {
    "id": "Y8yp9PyueXBU",
    "executionInfo": {
     "status": "ok",
     "timestamp": 1603306154329,
     "user_tz": -180,
     "elapsed": 938,
     "user": {
      "displayName": "nikita gordia",
      "photoUrl": "https://lh3.googleusercontent.com/a-/AOh14Gg-759Q23FO87-PUT97h9M2q3P9oUHUs0xx51_VDQ=s64",
      "userId": "13532432211404434996"
     }
    },
    "outputId": "fcd73f13-bd7d-42bc-ce4a-1f25285673ea",
    "colab": {
     "base_uri": "https://localhost:8080/",
     "height": 34
    }
   },
   "source": [
    "from sklearn.model_selection import GridSearchCV\n",
    "from sklearn.model_selection import cross_val_score as cvs\n",
    "\n",
    "clf = DecisionTreeClassifier()\n",
    "cvs(clf, X, y, cv=3).mean()"
   ],
   "execution_count": 10,
   "outputs": [
    {
     "ename": "ModuleNotFoundError",
     "evalue": "No module named 'sklearn'",
     "output_type": "error",
     "traceback": [
      "\u001B[0;31m---------------------------------------------------------------------------\u001B[0m",
      "\u001B[0;31mModuleNotFoundError\u001B[0m                       Traceback (most recent call last)",
      "\u001B[0;32m<ipython-input-10-b089151be1c9>\u001B[0m in \u001B[0;36m<module>\u001B[0;34m\u001B[0m\n\u001B[0;32m----> 1\u001B[0;31m \u001B[0;32mfrom\u001B[0m \u001B[0msklearn\u001B[0m\u001B[0;34m.\u001B[0m\u001B[0mmodel_selection\u001B[0m \u001B[0;32mimport\u001B[0m \u001B[0mGridSearchCV\u001B[0m\u001B[0;34m\u001B[0m\u001B[0;34m\u001B[0m\u001B[0m\n\u001B[0m\u001B[1;32m      2\u001B[0m \u001B[0;32mfrom\u001B[0m \u001B[0msklearn\u001B[0m\u001B[0;34m.\u001B[0m\u001B[0mmodel_selection\u001B[0m \u001B[0;32mimport\u001B[0m \u001B[0mcross_val_score\u001B[0m \u001B[0;32mas\u001B[0m \u001B[0mcvs\u001B[0m\u001B[0;34m\u001B[0m\u001B[0;34m\u001B[0m\u001B[0m\n\u001B[1;32m      3\u001B[0m \u001B[0;34m\u001B[0m\u001B[0m\n\u001B[1;32m      4\u001B[0m \u001B[0mclf\u001B[0m \u001B[0;34m=\u001B[0m \u001B[0mDecisionTreeClassifier\u001B[0m\u001B[0;34m(\u001B[0m\u001B[0;34m)\u001B[0m\u001B[0;34m\u001B[0m\u001B[0;34m\u001B[0m\u001B[0m\n\u001B[1;32m      5\u001B[0m \u001B[0mcvs\u001B[0m\u001B[0;34m(\u001B[0m\u001B[0mclf\u001B[0m\u001B[0;34m,\u001B[0m \u001B[0mX\u001B[0m\u001B[0;34m,\u001B[0m \u001B[0my\u001B[0m\u001B[0;34m,\u001B[0m \u001B[0mcv\u001B[0m\u001B[0;34m=\u001B[0m\u001B[0;36m3\u001B[0m\u001B[0;34m)\u001B[0m\u001B[0;34m.\u001B[0m\u001B[0mmean\u001B[0m\u001B[0;34m(\u001B[0m\u001B[0;34m)\u001B[0m\u001B[0;34m\u001B[0m\u001B[0;34m\u001B[0m\u001B[0m\n",
      "\u001B[0;31mModuleNotFoundError\u001B[0m: No module named 'sklearn'"
     ]
    }
   ]
  },
  {
   "cell_type": "code",
   "metadata": {
    "id": "DTTwZXT9fkrR",
    "executionInfo": {
     "status": "ok",
     "timestamp": 1603306757149,
     "user_tz": -180,
     "elapsed": 773,
     "user": {
      "displayName": "nikita gordia",
      "photoUrl": "https://lh3.googleusercontent.com/a-/AOh14Gg-759Q23FO87-PUT97h9M2q3P9oUHUs0xx51_VDQ=s64",
      "userId": "13532432211404434996"
     }
    }
   },
   "source": [
    "grid_search = GridSearchCV(clf, [\n",
    "                          { 'min_samples_leaf': [50, 60, 70, 80, 90]}\n",
    "])"
   ],
   "execution_count": 14,
   "outputs": [
    {
     "ename": "NameError",
     "evalue": "name 'GridSearchCV' is not defined",
     "output_type": "error",
     "traceback": [
      "\u001B[0;31m---------------------------------------------------------------------------\u001B[0m",
      "\u001B[0;31mNameError\u001B[0m                                 Traceback (most recent call last)",
      "\u001B[0;32m<ipython-input-14-ed41b5ec916c>\u001B[0m in \u001B[0;36m<module>\u001B[0;34m\u001B[0m\n\u001B[0;32m----> 1\u001B[0;31m grid_search = GridSearchCV(clf, [\n\u001B[0m\u001B[1;32m      2\u001B[0m                           \u001B[0;34m{\u001B[0m \u001B[0;34m'min_samples_leaf'\u001B[0m\u001B[0;34m:\u001B[0m \u001B[0;34m[\u001B[0m\u001B[0;36m50\u001B[0m\u001B[0;34m,\u001B[0m \u001B[0;36m60\u001B[0m\u001B[0;34m,\u001B[0m \u001B[0;36m70\u001B[0m\u001B[0;34m,\u001B[0m \u001B[0;36m80\u001B[0m\u001B[0;34m,\u001B[0m \u001B[0;36m90\u001B[0m\u001B[0;34m]\u001B[0m\u001B[0;34m}\u001B[0m\u001B[0;34m\u001B[0m\u001B[0;34m\u001B[0m\u001B[0m\n\u001B[1;32m      3\u001B[0m ])\n\u001B[1;32m      4\u001B[0m \u001B[0;34m\u001B[0m\u001B[0m\n",
      "\u001B[0;31mNameError\u001B[0m: name 'GridSearchCV' is not defined"
     ]
    }
   ]
  },
  {
   "cell_type": "code",
   "metadata": {
    "id": "GPXBt4xdhJX-",
    "executionInfo": {
     "status": "ok",
     "timestamp": 1603306758688,
     "user_tz": -180,
     "elapsed": 953,
     "user": {
      "displayName": "nikita gordia",
      "photoUrl": "https://lh3.googleusercontent.com/a-/AOh14Gg-759Q23FO87-PUT97h9M2q3P9oUHUs0xx51_VDQ=s64",
      "userId": "13532432211404434996"
     }
    },
    "outputId": "91b8ac83-93a0-46af-a038-2c516069457a",
    "colab": {
     "base_uri": "https://localhost:8080/",
     "height": 306
    }
   },
   "source": [
    "grid_search.fit(X_train, y_train)"
   ],
   "execution_count": 12,
   "outputs": [
    {
     "ename": "NameError",
     "evalue": "name 'grid_search' is not defined",
     "output_type": "error",
     "traceback": [
      "\u001B[0;31m---------------------------------------------------------------------------\u001B[0m",
      "\u001B[0;31mNameError\u001B[0m                                 Traceback (most recent call last)",
      "\u001B[0;32m<ipython-input-12-93cb7e7c4420>\u001B[0m in \u001B[0;36m<module>\u001B[0;34m\u001B[0m\n\u001B[0;32m----> 1\u001B[0;31m \u001B[0mgrid_search\u001B[0m\u001B[0;34m.\u001B[0m\u001B[0mfit\u001B[0m\u001B[0;34m(\u001B[0m\u001B[0mX_train\u001B[0m\u001B[0;34m,\u001B[0m \u001B[0my_train\u001B[0m\u001B[0;34m)\u001B[0m\u001B[0;34m\u001B[0m\u001B[0;34m\u001B[0m\u001B[0m\n\u001B[0m\u001B[1;32m      2\u001B[0m \u001B[0;34m\u001B[0m\u001B[0m\n",
      "\u001B[0;31mNameError\u001B[0m: name 'grid_search' is not defined"
     ]
    }
   ]
  },
  {
   "cell_type": "code",
   "metadata": {
    "id": "y9Z9QrhDhMSe",
    "executionInfo": {
     "status": "ok",
     "timestamp": 1603306760429,
     "user_tz": -180,
     "elapsed": 1074,
     "user": {
      "displayName": "nikita gordia",
      "photoUrl": "https://lh3.googleusercontent.com/a-/AOh14Gg-759Q23FO87-PUT97h9M2q3P9oUHUs0xx51_VDQ=s64",
      "userId": "13532432211404434996"
     }
    },
    "outputId": "70ef6858-9a46-400f-83f8-e6dd04e02959",
    "colab": {
     "base_uri": "https://localhost:8080/",
     "height": 34
    }
   },
   "source": [
    "grid_search.best_score_"
   ],
   "execution_count": 13,
   "outputs": [
    {
     "ename": "NameError",
     "evalue": "name 'grid_search' is not defined",
     "output_type": "error",
     "traceback": [
      "\u001B[0;31m---------------------------------------------------------------------------\u001B[0m",
      "\u001B[0;31mNameError\u001B[0m                                 Traceback (most recent call last)",
      "\u001B[0;32m<ipython-input-13-a5ee69c3ff3c>\u001B[0m in \u001B[0;36m<module>\u001B[0;34m\u001B[0m\n\u001B[0;32m----> 1\u001B[0;31m \u001B[0mgrid_search\u001B[0m\u001B[0;34m.\u001B[0m\u001B[0mbest_score_\u001B[0m\u001B[0;34m\u001B[0m\u001B[0;34m\u001B[0m\u001B[0m\n\u001B[0m\u001B[1;32m      2\u001B[0m \u001B[0;34m\u001B[0m\u001B[0m\n",
      "\u001B[0;31mNameError\u001B[0m: name 'grid_search' is not defined"
     ]
    }
   ]
  },
  {
   "cell_type": "code",
   "metadata": {
    "id": "seNdPDgfhSlR",
    "executionInfo": {
     "status": "ok",
     "timestamp": 1603306846025,
     "user_tz": -180,
     "elapsed": 840,
     "user": {
      "displayName": "nikita gordia",
      "photoUrl": "https://lh3.googleusercontent.com/a-/AOh14Gg-759Q23FO87-PUT97h9M2q3P9oUHUs0xx51_VDQ=s64",
      "userId": "13532432211404434996"
     }
    },
    "outputId": "a3904c9c-70a9-4dd4-e913-973e62ddaef8",
    "colab": {
     "base_uri": "https://localhost:8080/",
     "height": 34
    }
   },
   "source": [
    "sum(grid_search.best_estimator_.predict(X_test) == y_test) / y_test.shape[0]"
   ],
   "execution_count": null,
   "outputs": []
  },
  {
   "cell_type": "code",
   "metadata": {
    "id": "it0tudX1hZdm",
    "executionInfo": {
     "status": "ok",
     "timestamp": 1603308210858,
     "user_tz": -180,
     "elapsed": 1155,
     "user": {
      "displayName": "nikita gordia",
      "photoUrl": "https://lh3.googleusercontent.com/a-/AOh14Gg-759Q23FO87-PUT97h9M2q3P9oUHUs0xx51_VDQ=s64",
      "userId": "13532432211404434996"
     }
    }
   },
   "source": [
    "from sklearn.model_selection import ShuffleSplit\n",
    "\n",
    "n_trees = 1000\n",
    "n_instances = 100\n",
    "\n",
    "random_forest = []\n",
    "\n",
    "rs = ShuffleSplit(n_splits=n_trees, test_size=len(X_train) - n_instances, random_state=42)\n",
    "for mini_train_index, mini_test_index in rs.split(X_train):\n",
    "    X_mini_train = X_train[mini_train_index]\n",
    "    y_mini_train = y_train[mini_train_index]\n",
    "    clf = DecisionTreeClassifier(min_samples_leaf=90)\n",
    "    clf.fit(X_mini_train, y_mini_train)\n",
    "    random_forest.append(clf)\n"
   ],
   "execution_count": null,
   "outputs": []
  },
  {
   "cell_type": "code",
   "metadata": {
    "id": "YoxWLcnzk7lx",
    "executionInfo": {
     "status": "ok",
     "timestamp": 1603308210858,
     "user_tz": -180,
     "elapsed": 1047,
     "user": {
      "displayName": "nikita gordia",
      "photoUrl": "https://lh3.googleusercontent.com/a-/AOh14Gg-759Q23FO87-PUT97h9M2q3P9oUHUs0xx51_VDQ=s64",
      "userId": "13532432211404434996"
     }
    }
   },
   "source": [
    "import numpy as np\n",
    "\n",
    "Y_pred = np.empty([len(random_forest), len(X_test)], dtype=np.uint8)\n",
    "\n",
    "for tree_index, tree in enumerate(random_forest):\n",
    "    Y_pred[tree_index] = tree.predict(X_test)"
   ],
   "execution_count": null,
   "outputs": []
  },
  {
   "cell_type": "code",
   "metadata": {
    "id": "D8gr2qfak96W",
    "executionInfo": {
     "status": "ok",
     "timestamp": 1603308211124,
     "user_tz": -180,
     "elapsed": 676,
     "user": {
      "displayName": "nikita gordia",
      "photoUrl": "https://lh3.googleusercontent.com/a-/AOh14Gg-759Q23FO87-PUT97h9M2q3P9oUHUs0xx51_VDQ=s64",
      "userId": "13532432211404434996"
     }
    },
    "outputId": "f028bef8-2bd7-4df4-c5fe-6cab8f44e982",
    "colab": {
     "base_uri": "https://localhost:8080/",
     "height": 34
    }
   },
   "source": [
    "from scipy.stats import mode\n",
    "\n",
    "y_pred_majority_votes, n_votes = mode(Y_pred, axis=0)\n",
    "y_pred_majority_votes"
   ],
   "execution_count": null,
   "outputs": []
  },
  {
   "cell_type": "code",
   "metadata": {
    "id": "1N72rEt5mka1",
    "executionInfo": {
     "status": "ok",
     "timestamp": 1603308211659,
     "user_tz": -180,
     "elapsed": 505,
     "user": {
      "displayName": "nikita gordia",
      "photoUrl": "https://lh3.googleusercontent.com/a-/AOh14Gg-759Q23FO87-PUT97h9M2q3P9oUHUs0xx51_VDQ=s64",
      "userId": "13532432211404434996"
     }
    },
    "outputId": "b0e877dc-5f79-4bbe-eafd-db67271c58e5",
    "colab": {
     "base_uri": "https://localhost:8080/",
     "height": 34
    }
   },
   "source": [
    "n_votes"
   ],
   "execution_count": null,
   "outputs": []
  },
  {
   "cell_type": "code",
   "metadata": {
    "id": "RRZ8X7vdmmYq",
    "executionInfo": {
     "status": "ok",
     "timestamp": 1603308212839,
     "user_tz": -180,
     "elapsed": 832,
     "user": {
      "displayName": "nikita gordia",
      "photoUrl": "https://lh3.googleusercontent.com/a-/AOh14Gg-759Q23FO87-PUT97h9M2q3P9oUHUs0xx51_VDQ=s64",
      "userId": "13532432211404434996"
     }
    },
    "outputId": "5085ab5e-c2f5-4d8a-a1fc-258da985f366",
    "colab": {
     "base_uri": "https://localhost:8080/",
     "height": 34
    }
   },
   "source": [
    "from sklearn.metrics import accuracy_score as acc_sc\n",
    "\n",
    "acc_sc(y_pred_majority_votes.T, y_test)"
   ],
   "execution_count": null,
   "outputs": []
  },
  {
   "cell_type": "code",
   "metadata": {
    "id": "eOvd1sWGm8lc",
    "executionInfo": {
     "status": "ok",
     "timestamp": 1603308120963,
     "user_tz": -180,
     "elapsed": 684,
     "user": {
      "displayName": "nikita gordia",
      "photoUrl": "https://lh3.googleusercontent.com/a-/AOh14Gg-759Q23FO87-PUT97h9M2q3P9oUHUs0xx51_VDQ=s64",
      "userId": "13532432211404434996"
     }
    }
   },
   "source": [
    ""
   ],
   "execution_count": null,
   "outputs": []
  }
 ]
}