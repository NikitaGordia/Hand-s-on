{
 "nbformat": 4,
 "nbformat_minor": 0,
 "metadata": {
  "colab": {
   "name": "Dimensionality reduction.ipynb",
   "provenance": [],
   "authorship_tag": "ABX9TyMEFIB2ruLoCCPfMlDfyRqH"
  },
  "kernelspec": {
   "name": "python3",
   "language": "python",
   "display_name": "Python 3"
  }
 },
 "cells": [
  {
   "cell_type": "code",
   "metadata": {
    "id": "wBExDDiE5dkD"
   },
   "source": [
    "import numpy.linalg as la"
   ],
   "execution_count": null,
   "outputs": []
  },
  {
   "cell_type": "code",
   "metadata": {
    "id": "98B8atrK9HX7",
    "executionInfo": {
     "status": "ok",
     "timestamp": 1603649611629,
     "user_tz": -120,
     "elapsed": 1201,
     "user": {
      "displayName": "nikita gordia",
      "photoUrl": "https://lh3.googleusercontent.com/a-/AOh14Gg-759Q23FO87-PUT97h9M2q3P9oUHUs0xx51_VDQ=s64",
      "userId": "13532432211404434996"
     }
    }
   },
   "source": [
    "from sklearn.decomposition import PCA"
   ],
   "execution_count": 1,
   "outputs": []
  },
  {
   "cell_type": "code",
   "metadata": {
    "id": "t2jGu-F09x7S",
    "executionInfo": {
     "status": "ok",
     "timestamp": 1603650657225,
     "user_tz": -120,
     "elapsed": 581,
     "user": {
      "displayName": "nikita gordia",
      "photoUrl": "https://lh3.googleusercontent.com/a-/AOh14Gg-759Q23FO87-PUT97h9M2q3P9oUHUs0xx51_VDQ=s64",
      "userId": "13532432211404434996"
     }
    }
   },
   "source": [
    "from sklearn.datasets import load_diabetes\n",
    "import pandas as pd\n",
    "\n",
    "diabetes_raw = load_diabetes()\n",
    "diabetes = pd.DataFrame(diabetes_raw.data, columns=diabetes_raw.feature_names)"
   ],
   "execution_count": 5,
   "outputs": []
  },
  {
   "cell_type": "code",
   "metadata": {
    "id": "haX72oqFBXcX",
    "executionInfo": {
     "status": "ok",
     "timestamp": 1603650825026,
     "user_tz": -120,
     "elapsed": 687,
     "user": {
      "displayName": "nikita gordia",
      "photoUrl": "https://lh3.googleusercontent.com/a-/AOh14Gg-759Q23FO87-PUT97h9M2q3P9oUHUs0xx51_VDQ=s64",
      "userId": "13532432211404434996"
     }
    },
    "outputId": "111082dd-5ca8-4da3-ba62-388754f274b5",
    "colab": {
     "base_uri": "https://localhost:8080/",
     "height": 53
    }
   },
   "source": [
    "X = diabetes[:]\n",
    "\n",
    "pca = PCA()\n",
    "pca.fit(X)"
   ],
   "execution_count": 12,
   "outputs": [
    {
     "output_type": "execute_result",
     "data": {
      "text/plain": [
       "PCA(copy=True, iterated_power='auto', n_components=None, random_state=None,\n",
       "    svd_solver='auto', tol=0.0, whiten=False)"
      ]
     },
     "metadata": {
      "tags": []
     },
     "execution_count": 12
    }
   ]
  },
  {
   "cell_type": "code",
   "metadata": {
    "id": "lBN3MYsmBYX9",
    "executionInfo": {
     "status": "ok",
     "timestamp": 1603650901191,
     "user_tz": -120,
     "elapsed": 750,
     "user": {
      "displayName": "nikita gordia",
      "photoUrl": "https://lh3.googleusercontent.com/a-/AOh14Gg-759Q23FO87-PUT97h9M2q3P9oUHUs0xx51_VDQ=s64",
      "userId": "13532432211404434996"
     }
    },
    "outputId": "324b3eab-08c5-420a-dbd6-cf455e1e5047",
    "colab": {
     "base_uri": "https://localhost:8080/",
     "height": 283
    }
   },
   "source": [
    "import numpy as np\n",
    "\n",
    "np.set_printoptions(suppress=True)\n",
    "cs = pca.explained_variance_ratio_.cumsum()\n",
    "\n",
    "import matplotlib.pyplot as plt\n",
    "\n",
    "plt.plot(cs)"
   ],
   "execution_count": 16,
   "outputs": [
    {
     "output_type": "execute_result",
     "data": {
      "text/plain": [
       "[<matplotlib.lines.Line2D at 0x7f75a8a23cc0>]"
      ]
     },
     "metadata": {
      "tags": []
     },
     "execution_count": 16
    },
    {
     "output_type": "display_data",
     "data": {
      "image/png": "[encoded data removed]",
      "text/plain": [
       "<Figure size 432x288 with 1 Axes>"
      ]
     },
     "metadata": {
      "tags": [],
      "needs_background": "light"
     }
    }
   ]
  },
  {
   "cell_type": "code",
   "metadata": {
    "id": "avau4SWkCCkc"
   },
   "source": [
    ""
   ],
   "execution_count": null,
   "outputs": []
  }
 ]
}